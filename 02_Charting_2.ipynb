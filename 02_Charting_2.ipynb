{
 "cells": [
  {
   "cell_type": "markdown",
   "metadata": {},
   "source": [
    "# MRes Marine Biology \n",
    "\n",
    "# Intro to Python: Charting 2"
   ]
  },
  {
   "cell_type": "markdown",
   "metadata": {},
   "source": [
    "Using CTD dataset collected 15 - 17/10/18 from RV Sepia"
   ]
  },
  {
   "cell_type": "markdown",
   "metadata": {},
   "source": [
    "## Import Python Libraries"
   ]
  },
  {
   "cell_type": "code",
   "execution_count": null,
   "metadata": {},
   "outputs": [],
   "source": [
    "# DataFrames:\n",
    "import pandas as pd\n",
    "# Plotting library:\n",
    "import matplotlib.pyplot as plt\n",
    "# Operating System library:\n",
    "import os"
   ]
  },
  {
   "cell_type": "markdown",
   "metadata": {},
   "source": [
    "## Read in location dataset"
   ]
  },
  {
   "cell_type": "code",
   "execution_count": null,
   "metadata": {},
   "outputs": [],
   "source": [
    "data='data/ctd/'"
   ]
  },
  {
   "cell_type": "code",
   "execution_count": null,
   "metadata": {},
   "outputs": [],
   "source": [
    "files=os.listdir(data)\n",
    "files"
   ]
  },
  {
   "cell_type": "code",
   "execution_count": null,
   "metadata": {},
   "outputs": [],
   "source": [
    "files[0].split(' ')[1][:2]"
   ]
  },
  {
   "cell_type": "code",
   "execution_count": null,
   "metadata": {},
   "outputs": [],
   "source": [
    "df=[]\n",
    "for f in files:\n",
    "    fi=os.path.join(data,f)\n",
    "    d=pd.read_csv(fi,skiprows=69,parse_dates=True,index_col=[0],sep='\\t')\n",
    "    loc=fi.split(' ')[1][:2]\n",
    "    d['location']=loc\n",
    "    df.append({'name':fi,'location':loc,'data':d})"
   ]
  },
  {
   "cell_type": "code",
   "execution_count": null,
   "metadata": {},
   "outputs": [],
   "source": [
    "df[0]['data'].head()"
   ]
  },
  {
   "cell_type": "markdown",
   "metadata": {},
   "source": [
    "### Plot CTD data"
   ]
  },
  {
   "cell_type": "markdown",
   "metadata": {},
   "source": [
    "Only plot CTD for 'West Mud' ('WM')"
   ]
  },
  {
   "cell_type": "code",
   "execution_count": null,
   "metadata": {},
   "outputs": [],
   "source": [
    "f,ax=plt.subplots()\n",
    "\n",
    "for d in df:\n",
    "    if d['location']=='WM':\n",
    "        ax.plot(d['data']['Temperature'],d['data']['Depth'])\n"
   ]
  },
  {
   "cell_type": "markdown",
   "metadata": {},
   "source": [
    "Cleary something weird going on at the surface, so ignore any data less then 0.5m deep:"
   ]
  },
  {
   "cell_type": "code",
   "execution_count": null,
   "metadata": {},
   "outputs": [],
   "source": [
    "f,ax=plt.subplots()\n",
    "\n",
    "for d in df:\n",
    "    if d['location']=='WM':\n",
    "        idx=d['data']['Depth']>=0.5\n",
    "        ax.plot(d['data']['Temperature'][idx],d['data']['Depth'][idx])"
   ]
  },
  {
   "cell_type": "markdown",
   "metadata": {},
   "source": [
    "Downcast only:"
   ]
  },
  {
   "cell_type": "code",
   "execution_count": null,
   "metadata": {},
   "outputs": [],
   "source": [
    "f,ax=plt.subplots()\n",
    "l=[]\n",
    "\n",
    "for d in df:\n",
    "    if d['location']=='WM':\n",
    "        idx_max=d['data']['Depth'].idxmax()\n",
    "        d_tmp=d['data'][:idx_max]\n",
    "        idx=d_tmp['Depth']>=0.5\n",
    "        \n",
    "        ax.plot(d_tmp['Temperature'][idx],d_tmp['Depth'][idx])\n",
    "        l.append(d_tmp.index[0].day)\n",
    "        \n",
    "ax.set_xlabel('Temperature');\n",
    "ax.set_ylabel('Depth');\n",
    "ax.legend(l)"
   ]
  },
  {
   "cell_type": "markdown",
   "metadata": {},
   "source": [
    "### Repeat for 'Kingsmill Lake'"
   ]
  },
  {
   "cell_type": "code",
   "execution_count": null,
   "metadata": {},
   "outputs": [],
   "source": [
    "# TODO"
   ]
  }
 ],
 "metadata": {
  "kernelspec": {
   "display_name": "Python 3",
   "language": "python",
   "name": "python3"
  },
  "language_info": {
   "codemirror_mode": {
    "name": "ipython",
    "version": 3
   },
   "file_extension": ".py",
   "mimetype": "text/x-python",
   "name": "python",
   "nbconvert_exporter": "python",
   "pygments_lexer": "ipython3",
   "version": "3.6.4"
  }
 },
 "nbformat": 4,
 "nbformat_minor": 2
}
